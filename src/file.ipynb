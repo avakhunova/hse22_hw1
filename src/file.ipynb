```python
{
 "cells": [
  {
   "cell_type": "code",
   "execution_count": 9,
   "id": "89e44fd7",
   "metadata": {},
   "outputs": [],
   "source": [
    "import re"
   ]
  },
  {
   "cell_type": "code",
   "execution_count": 10,
   "id": "b750ae3f",
   "metadata": {},
   "outputs": [],
   "source": [
    "def get_info(f, text, output = True):\n",
    "    lengths = []\n",
    "    total_len = 0\n",
    "    num = 0\n",
    "    max_len = 0\n",
    "    length = 0\n",
    "    score = 0\n",
    "    max_sequence = ''\n",
    "    curr_sequence = ''\n",
    "    for line in f:\n",
    "        if (line[0] == '>'):\n",
    "            if num != 0:\n",
    "                lengths.append(length)\n",
    "            num += 1\n",
    "            if length >= max_len:\n",
    "                max_len = length\n",
    "                max_sequence = curr_sequence\n",
    "            curr_sequence = ''\n",
    "            length = 0\n",
    "        else:\n",
    "            curr_sequence += line.strip()\n",
    "            length += len(line.strip())\n",
    "            total_len += len(line.strip())\n",
    "     \n",
    "    lengths.sort(reverse = True) \n",
    "    for i in lengths:\n",
    "        score += i\n",
    "        if score >= total_len / 2:\n",
    "            if output == True:\n",
    "                print(f'Анализ {text}\\n\\\n",
    "Общее количество: {num};\\n\\\n",
    "Общая длина: {total_len};\\n\\\n",
    "Длина самого длинного: {max_len};\\n\\\n",
    "N50: {i}\\n')\n",
    "            break\n",
    "    return max_sequence"
   ]
  },
  {
   "cell_type": "code",
   "execution_count": 11,
   "id": "daa0b098",
   "metadata": {},
   "outputs": [
    {
     "name": "stdout",
     "output_type": "stream",
     "text": [
      "Анализ Контигов\n",
      "Общее количество: 625;\n",
      "Общая длина: 3926500;\n",
      "Длина самого длинного: 179307;\n",
      "N50: 47993\n",
      "\n"
     ]
    }
   ],
   "source": [
    "max_contig = get_info(open('Pxut_contig.fa', 'r'), 'Контигов')"
   ]
  },
  {
   "cell_type": "code",
   "execution_count": 12,
   "id": "83d74fb3",
   "metadata": {},
   "outputs": [
    {
     "name": "stdout",
     "output_type": "stream",
     "text": [
      "Анализ Скаффолдов\n",
      "Общее количество: 67;\n",
      "Общая длина: 3876562;\n",
      "Длина самого длинного: 3835914;\n",
      "N50: 3835914\n",
      "\n"
     ]
    }
   ],
   "source": [
    "max_scaffold = get_info(open('Pxut_scaffold.fa', 'r'), 'Скаффолдов')"
   ]
  },
  {
   "cell_type": "code",
   "execution_count": 13,
   "id": "ced64861",
   "metadata": {},
   "outputs": [
    {
     "name": "stdout",
     "output_type": "stream",
     "text": [
      "Общая длина гэпов: 7390\n",
      "Число гэпов: 63\n"
     ]
    }
   ],
   "source": [
    "print(f'Общая длина гэпов: {max_scaffold.count(\"N\")}')\n",
    "max_scaffold = re.sub(r'N{2,}', 'N', max_scaffold)\n",
    "print(f'Число гэпов: {max_scaffold.count(\"N\")}')"
   ]
  },
  {
   "cell_type": "code",
   "execution_count": 14,
   "id": "8dbb6d97",
   "metadata": {},
   "outputs": [],
   "source": [
    "max_scaf = get_info(open('Pxut_gapClosed.fa', 'r'), 'Скаффолдов', False)"
   ]
  },
  {
   "cell_type": "code",
   "execution_count": 15,
   "id": "3c5eef68",
   "metadata": {},
   "outputs": [
    {
     "name": "stdout",
     "output_type": "stream",
     "text": [
      "Общая длина гэпов для обрезанных чтений: 2546\n",
      "Число гэпов для обрезанных чтений: 10\n"
     ]
    }
   ],
   "source": [
    "print(f'Общая длина гэпов для обрезанных чтений: {max_scaf.count(\"N\")}')\n",
    "max_scaf = re.sub(r'N{2,}', 'N', max_scaf)\n",
    "print(f'Число гэпов для обрезанных чтений: {max_scaf.count(\"N\")}')"
   ]
  },
  {
   "cell_type": "code",
   "execution_count": null,
   "id": "32ec9c7b",
   "metadata": {},
   "outputs": [],
   "source": []
  }
 ],
 "metadata": {
  "kernelspec": {
   "display_name": "Python 3 (ipykernel)",
   "language": "python",
   "name": "python3"
  },
  "language_info": {
   "codemirror_mode": {
    "name": "ipython",
    "version": 3
   },
   "file_extension": ".py",
   "mimetype": "text/x-python",
   "name": "python",
   "nbconvert_exporter": "python",
   "pygments_lexer": "ipython3",
   "version": "3.9.7"
  }
 },
 "nbformat": 4,
 "nbformat_minor": 5
}
```
